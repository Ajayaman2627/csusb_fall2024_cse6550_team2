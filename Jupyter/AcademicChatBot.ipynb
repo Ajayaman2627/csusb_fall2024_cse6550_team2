{
 "cells": [
  {
   "cell_type": "markdown",
   "metadata": {},
   "source": [
    "# Academic Chatbot Creation Guide"
   ]
  },
  {
   "cell_type": "markdown",
   "metadata": {},
   "source": [
    "### Date: September 25, 2024"
   ]
  },
  {
   "cell_type": "code",
   "execution_count": 2,
   "metadata": {},
   "outputs": [
    {
     "name": "stdout",
     "output_type": "stream",
     "text": [
      "2024-09-25 12:39:56\n"
     ]
    }
   ],
   "source": [
    "from datetime import datetime; \n",
    "print(datetime.now().strftime(\"%Y-%m-%d %H:%M:%S\"))"
   ]
  },
  {
   "cell_type": "markdown",
   "metadata": {},
   "source": [
    "## Table of contents\n",
    "\n",
    "#### 1. Introduction\n",
    "#### 2. Hello world program\n",
    "#### 3. UI"
   ]
  },
  {
   "cell_type": "markdown",
   "metadata": {},
   "source": [
    "## 1. Introduction"
   ]
  },
  {
   "cell_type": "markdown",
   "metadata": {},
   "source": [
    "#### Chatbots are AI programs that simulate conversation, providing valuable assistance in customer service and user engagement. This tutorial aims to guide you in creating a simple chatbot using Python. You'll need basic Python knowledge and Jupyter Notebook installed to get started."
   ]
  },
  {
   "cell_type": "markdown",
   "metadata": {},
   "source": [
    "## 2. Hello world Program"
   ]
  },
  {
   "cell_type": "markdown",
   "metadata": {},
   "source": [
    "#### The hello world program was used to test the website by displaying the message \"Hello World! - Team 2\".\n"
   ]
  },
  {
   "cell_type": "markdown",
   "metadata": {},
   "source": [
    "## 3. UI"
   ]
  },
  {
   "cell_type": "markdown",
   "metadata": {},
   "source": [
    "#### In this current version of the UI. The webside displays a chatbot where if a user responds with \"hi\", \"hello\", \"bye\", \"what can you do\", or \"help\" the website will respond with a reply appropriate to the users input. If the user responds with anything else, the website will respond \"I'm sorry, I don't have an answer for that right now.\". There is a display menu on the left side of the screen that can collapse. The side bar has \"Number of questions\", \"Number of correct answers\", \"Number  of incorrect answers\", \"User engagement metrics\", \"Response time analysis\", \"Accuracy rate\", \"Common topics or keywords\", \"User satisfaction ratings\", \"Improvement over time\", and \"Feedback summary\" to display chat history and statistics."
   ]
  }
 ],
 "metadata": {
  "kernelspec": {
   "display_name": "Python 3",
   "language": "python",
   "name": "python3"
  },
  "language_info": {
   "codemirror_mode": {
    "name": "ipython",
    "version": 3
   },
   "file_extension": ".py",
   "mimetype": "text/x-python",
   "name": "python",
   "nbconvert_exporter": "python",
   "pygments_lexer": "ipython3",
   "version": "3.11.9"
  }
 },
 "nbformat": 4,
 "nbformat_minor": 2
}
